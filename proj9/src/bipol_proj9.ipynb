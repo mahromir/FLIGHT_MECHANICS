{
 "cells": [
  {
   "cell_type": "code",
   "execution_count": 6,
   "metadata": {},
   "outputs": [
    {
     "ename": "SyntaxError",
     "evalue": "invalid syntax (266019986.py, line 10)",
     "output_type": "error",
     "traceback": [
      "\u001b[1;36m  File \u001b[1;32m\"C:\\Users\\marek\\AppData\\Local\\Temp\\ipykernel_2344\\266019986.py\"\u001b[1;36m, line \u001b[1;32m10\u001b[0m\n\u001b[1;33m    df.at[]\u001b[0m\n\u001b[1;37m          ^\u001b[0m\n\u001b[1;31mSyntaxError\u001b[0m\u001b[1;31m:\u001b[0m invalid syntax\n"
     ]
    }
   ],
   "source": [
    "import pandas as pd\n",
    "\n",
    "# Import database from excel sheet. It is organized in columns [variable | unit | symbol | value]\n",
    "# You can set index col (you can take symbol for cleaner formulas)\n",
    "df = pd.read_excel(\"../../database/ml_projekty.xlsx\", sheet_name=\"Base\", index_col=\"index\", skiprows=1)\n",
    "\n",
    "display(df.head(10))\n",
    "# to get value us df.at[<index>, \"value\"]\n",
    "# df.at[\"w_e\",\"value\"]\n",
    "# df.at[]\n"
   ]
  }
 ],
 "metadata": {
  "kernelspec": {
   "display_name": "base",
   "language": "python",
   "name": "python3"
  },
  "language_info": {
   "codemirror_mode": {
    "name": "ipython",
    "version": 3
   },
   "file_extension": ".py",
   "mimetype": "text/x-python",
   "name": "python",
   "nbconvert_exporter": "python",
   "pygments_lexer": "ipython3",
   "version": "3.9.13"
  }
 },
 "nbformat": 4,
 "nbformat_minor": 2
}
