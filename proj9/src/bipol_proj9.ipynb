{
 "cells": [
  {
   "cell_type": "code",
   "execution_count": 14,
   "metadata": {},
   "outputs": [
    {
     "data": {
      "text/plain": [
       "Index(['alpha', 'cz', 'c'x_p', 'a_p [deg]', 'Cmk', 'Cmp1', 'Cmp2', 'Cmp3',\n",
       "       'Cmbu1', 'Cmbu2', 'Cmbu3'],\n",
       "      dtype='object')"
      ]
     },
     "execution_count": 14,
     "metadata": {},
     "output_type": "execute_result"
    }
   ],
   "source": [
    "import pandas as pd\n",
    "\n",
    "# Import database from excel sheet. It is organized in columns [variable | unit | symbol | value]\n",
    "# You can set index col (you can take symbol for cleaner formulas)\n",
    "# df = pd.read_excel(\"../../database/ml_projekty.xlsx\", sheet_name=\"Base\", index_col=\"index\", skiprows=1)\n",
    "\n",
    "# to get value us df.at[<index>, \"value\"]\n",
    "\n",
    "df8 = pd.read_excel(\"../../database/ml_projekty.xlsx\", sheet_name=\"Base_pr8\", index_col=\"index\")\n",
    "# display(df.head(10))\n",
    "df8.columns\n",
    "\n"
   ]
  },
  {
   "cell_type": "code",
   "execution_count": null,
   "metadata": {},
   "outputs": [],
   "source": []
  }
 ],
 "metadata": {
  "kernelspec": {
   "display_name": "base",
   "language": "python",
   "name": "python3"
  },
  "language_info": {
   "codemirror_mode": {
    "name": "ipython",
    "version": 3
   },
   "file_extension": ".py",
   "mimetype": "text/x-python",
   "name": "python",
   "nbconvert_exporter": "python",
   "pygments_lexer": "ipython3",
   "version": "3.9.13"
  }
 },
 "nbformat": 4,
 "nbformat_minor": 2
}
